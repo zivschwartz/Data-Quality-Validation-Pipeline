{
 "cells": [
  {
   "cell_type": "code",
   "execution_count": 1,
   "metadata": {},
   "outputs": [],
   "source": [
    "import pandas as pd"
   ]
  },
  {
   "cell_type": "code",
   "execution_count": 12,
   "metadata": {},
   "outputs": [],
   "source": [
    "from os import listdir\n",
    "from os.path import isfile, join\n",
    "debs_files = 'DEBS'\n",
    "debs_files_dirty = [f for f in listdir(mypath) if isfile(join(mypath, f)) and 'dirty' in f]\n",
    "debs_files_clean = [f for f in listdir(mypath) if isfile(join(mypath, f)) and 'clean' in f]"
   ]
  },
  {
   "cell_type": "code",
   "execution_count": 18,
   "metadata": {},
   "outputs": [],
   "source": [
    "for i in debs_files_dirty[:1]:\n",
    "    data_dirty = pd.read_csv(debs_files + '/' + )"
   ]
  },
  {
   "cell_type": "code",
   "execution_count": 35,
   "metadata": {},
   "outputs": [],
   "source": [
    "data_dirty = pd.read_csv(debs_files + '/' + 'DEBS_dirty_2.csv')\n",
    "data_clean = pd.read_csv(debs_files + '/' + 'DEBS_clean_2.csv')"
   ]
  },
  {
   "cell_type": "code",
   "execution_count": 36,
   "metadata": {},
   "outputs": [
    {
     "data": {
      "text/plain": [
       "medallion            0\n",
       "hack_license         0\n",
       "pickup_datetime      0\n",
       "dropoff_datetime     0\n",
       "trip_time_in_secs    0\n",
       "trip_distance        0\n",
       "pickup_longitude     0\n",
       "pickup_latitude      0\n",
       "dropoff_longitude    0\n",
       "dropoff_latitude     0\n",
       "payment_type         0\n",
       "fare_amount          0\n",
       "surcharge            0\n",
       "mta_tax              0\n",
       "tip_amount           0\n",
       "tolls_amount         0\n",
       "total_amount         0\n",
       "mask                 0\n",
       "to_be_fixed          0\n",
       "date                 0\n",
       "dtype: int64"
      ]
     },
     "execution_count": 36,
     "metadata": {},
     "output_type": "execute_result"
    }
   ],
   "source": [
    "data_dirty.isnull().sum()"
   ]
  },
  {
   "cell_type": "code",
   "execution_count": 41,
   "metadata": {},
   "outputs": [
    {
     "data": {
      "text/plain": [
       "(1401,)"
      ]
     },
     "execution_count": 41,
     "metadata": {},
     "output_type": "execute_result"
    }
   ],
   "source": [
    "data_dirty.to_be_fixed.shape"
   ]
  },
  {
   "cell_type": "code",
   "execution_count": 37,
   "metadata": {},
   "outputs": [
    {
     "data": {
      "text/plain": [
       "medallion            0\n",
       "hack_license         0\n",
       "pickup_datetime      0\n",
       "dropoff_datetime     0\n",
       "trip_time_in_secs    0\n",
       "trip_distance        0\n",
       "pickup_longitude     0\n",
       "pickup_latitude      0\n",
       "dropoff_longitude    0\n",
       "dropoff_latitude     0\n",
       "payment_type         0\n",
       "fare_amount          0\n",
       "surcharge            0\n",
       "mta_tax              0\n",
       "tip_amount           0\n",
       "tolls_amount         0\n",
       "total_amount         0\n",
       "date                 0\n",
       "dtype: int64"
      ]
     },
     "execution_count": 37,
     "metadata": {},
     "output_type": "execute_result"
    }
   ],
   "source": [
    "data_clean.isnull().sum()"
   ]
  },
  {
   "cell_type": "code",
   "execution_count": null,
   "metadata": {},
   "outputs": [],
   "source": []
  }
 ],
 "metadata": {
  "kernelspec": {
   "display_name": "Python 3",
   "language": "python",
   "name": "python3"
  },
  "language_info": {
   "codemirror_mode": {
    "name": "ipython",
    "version": 3
   },
   "file_extension": ".py",
   "mimetype": "text/x-python",
   "name": "python",
   "nbconvert_exporter": "python",
   "pygments_lexer": "ipython3",
   "version": "3.6.7"
  }
 },
 "nbformat": 4,
 "nbformat_minor": 2
}
