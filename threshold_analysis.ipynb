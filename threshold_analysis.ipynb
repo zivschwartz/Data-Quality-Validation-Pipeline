{
 "cells": [
  {
   "cell_type": "code",
   "execution_count": 4,
   "metadata": {},
   "outputs": [],
   "source": [
    "import numpy as np\n",
    "import pandas as pd\n",
    "import glob\n",
    "import os\n",
    "import matplotlib.pyplot as plt\n",
    "from data_quality import *"
   ]
  },
  {
   "cell_type": "code",
   "execution_count": 5,
   "metadata": {},
   "outputs": [],
   "source": [
    "clean_flights, dirty_flights = partition_data_files('tmp/FLIGHTS/*.csv')\n",
    "clean_fb, dirty_fb = partition_data_files('tmp/FBPosts/*.csv')"
   ]
  },
  {
   "cell_type": "code",
   "execution_count": 6,
   "metadata": {
    "scrolled": true
   },
   "outputs": [],
   "source": [
    "flights_clean_completeness_ratio_df, flights_dirty_completeness_ratio_df = completeness_dataframes(clean_flights, dirty_flights)"
   ]
  },
  {
   "cell_type": "code",
   "execution_count": 10,
   "metadata": {},
   "outputs": [],
   "source": [
    "def determine_acceptable_metric_range(batches):\n",
    "    \n",
    "    completeness_df, __ = completeness_dataframes(batches, batches)\n",
    "    distinct_df, __ = distinct_counts_dataframes(batches, batches)\n",
    "#     return completeness_df\n",
    "    completeness_means = completeness_df.mean(axis=1)\n",
    "    completeness_vars = np.sqrt(completeness_df.var(axis = 1, ddof=len(batches)-1))\n",
    "    \n",
    "    completeness_range = pd.DataFrame(columns = ['min', 'max'])\n",
    "    completeness_range['min'] = completeness_means - completeness_vars\n",
    "    completeness_range['max'] = completeness_means + completeness_vars\n",
    "    \n",
    "    distinct_means = distinct_df.mean(axis=1)\n",
    "    distinct_vars = np.sqrt(distinct_df.var(axis = 1, ddof=len(batches)-1))\n",
    "    \n",
    "    distinct_range = pd.DataFrame(columns = ['min', 'max'])\n",
    "    distinct_range['min'] = distinct_means - distinct_vars\n",
    "    distinct_range['max'] = distinct_means + distinct_vars\n",
    "    return completeness_range, distinct_range"
   ]
  },
  {
   "cell_type": "code",
   "execution_count": 72,
   "metadata": {},
   "outputs": [],
   "source": [
    "def is_acceptable(train_batch, test_batch):\n",
    "    completeness_range, distinct_range = determine_acceptable_metric_range(train_batch)\n",
    "    test_batch_completeness, __ = completeness_dataframes(test_batch, test_batch)\n",
    "    test_batch_distinct, __ = distinct_counts_dataframes(test_batch, test_batch)\n",
    "    completeness_within_range = 0\n",
    "    distinct_within_range = 0\n",
    "    for i in range(len(test_batch_distinct.values)):\n",
    "#         print(test_batch_distinct.values[i][0], distinct_range[i:i+1]['min'].values[0], distinct_range[i:i+1]['max'].values[0])\n",
    "        if test_batch_distinct.values[i][0] >= (distinct_range[i:i+1]['min'][0]) and test_batch_distinct.values[i][0] <= (distinct_range[i:i+1]['max'][0]):\n",
    "            distinct_within_range = distinct_within_range + 1\n",
    "        if test_batch_completeness.values[i][0] >= (completeness_range[i:i+1]['min'][0]) and test_batch_completeness.values[i][0] <= (completeness_range[i:i+1]['max'][0]):\n",
    "            completeness_within_range = completeness_within_range + 1\n",
    "    \n",
    "    \n",
    "    if completeness_within_range/test_batch_completeness.shape[0] > .8 and  distinct_within_range/test_batch_completeness.shape[0] > .8:\n",
    "        return True\n",
    "    else:\n",
    "        return False"
   ]
  },
  {
   "cell_type": "code",
   "execution_count": 87,
   "metadata": {},
   "outputs": [
    {
     "name": "stdout",
     "output_type": "stream",
     "text": [
      "True\n",
      "True\n",
      "True\n",
      "False\n",
      "True\n",
      "False\n",
      "True\n",
      "True\n",
      "True\n",
      "True\n",
      "False\n",
      "True\n",
      "True\n",
      "True\n",
      "True\n",
      "True\n",
      "False\n",
      "False\n",
      "True\n",
      "True\n",
      "False\n",
      "True\n",
      "False\n",
      "False\n",
      "False\n",
      "True\n",
      "True\n",
      "True\n"
     ]
    }
   ],
   "source": [
    "batch_size = 3\n",
    "for i in range(len(clean_flights)-batch_size):\n",
    "    val = is_acceptable(clean_flights[i:i+batch_size], clean_flights[i+batch_size: i+batch_size+1])\n",
    "    print(val)"
   ]
  },
  {
   "cell_type": "code",
   "execution_count": null,
   "metadata": {
    "scrolled": true
   },
   "outputs": [],
   "source": [
    "for column in flights_dirty_completeness_ratio_df.index.tolist():\n",
    "    fig, (ax1, ax2) = plt.subplots(1, 2, figsize=(20,5))\n",
    "    fig.suptitle(column)\n",
    "    ax1.title.set_text('Completeness')\n",
    "    ax2.title.set_text('Distinct Values')\n",
    "    ax1.plot(np.arange(flights_clean_completeness_ratio_df.shape[1]), flights_clean_completeness_ratio_df.loc[column].values, label = 'clean')\n",
    "    ax1.plot(np.arange(flights_dirty_completeness_ratio_df.shape[1]), flights_dirty_completeness_ratio_df.loc[column].values, label = 'dirty')\n",
    "    ax2.plot(np.arange(flights_clean_distinct_counts_df.shape[1]), flights_clean_distinct_counts_df.loc[column].values, label = 'clean')\n",
    "    ax2.plot(np.arange(flights_dirty_distinct_counts_df.shape[1]), flights_dirty_distinct_counts_df.loc[column].values, label = 'dirty')\n",
    "    ax1.legend()\n",
    "    ax2.legend()\n",
    "    plt.show()"
   ]
  }
 ],
 "metadata": {
  "kernelspec": {
   "display_name": "Python 3",
   "language": "python",
   "name": "python3"
  },
  "language_info": {
   "codemirror_mode": {
    "name": "ipython",
    "version": 3
   },
   "file_extension": ".py",
   "mimetype": "text/x-python",
   "name": "python",
   "nbconvert_exporter": "python",
   "pygments_lexer": "ipython3",
   "version": "3.6.7"
  }
 },
 "nbformat": 4,
 "nbformat_minor": 2
}
